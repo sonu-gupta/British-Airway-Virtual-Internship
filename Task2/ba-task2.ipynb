{
 "cells": [
  {
   "cell_type": "code",
   "execution_count": 3,
   "metadata": {
    "_cell_guid": "b1076dfc-b9ad-4769-8c92-a6c4dae69d19",
    "_uuid": "8f2839f25d086af736a60e9eeb907d3b93b6e0e5",
    "execution": {
     "iopub.execute_input": "2023-01-24T19:54:01.430870Z",
     "iopub.status.busy": "2023-01-24T19:54:01.430167Z",
     "iopub.status.idle": "2023-01-24T19:54:01.439823Z",
     "shell.execute_reply": "2023-01-24T19:54:01.438639Z",
     "shell.execute_reply.started": "2023-01-24T19:54:01.430822Z"
    }
   },
   "outputs": [
    {
     "name": "stdout",
     "output_type": "stream",
     "text": [
      "/kaggle/input/ba-task2/ba_task2_data.csv\n"
     ]
    }
   ],
   "source": [
    "import numpy as np # linear algebra\n",
    "import pandas as pd # data processing, CSV file I/O (e.g. pd.read_csv)"
   ]
  },
  {
   "cell_type": "code",
   "execution_count": 115,
   "metadata": {
    "execution": {
     "iopub.execute_input": "2023-01-24T20:17:24.381856Z",
     "iopub.status.busy": "2023-01-24T20:17:24.381451Z",
     "iopub.status.idle": "2023-01-24T20:17:24.388036Z",
     "shell.execute_reply": "2023-01-24T20:17:24.386863Z",
     "shell.execute_reply.started": "2023-01-24T20:17:24.381827Z"
    }
   },
   "outputs": [],
   "source": [
    "from sklearn.model_selection import train_test_split\n",
    "from sklearn.ensemble import RandomForestClassifier\n",
    "from sklearn.tree import DecisionTreeClassifier"
   ]
  },
  {
   "cell_type": "code",
   "execution_count": 198,
   "metadata": {
    "execution": {
     "iopub.execute_input": "2023-01-24T20:37:27.480051Z",
     "iopub.status.busy": "2023-01-24T20:37:27.479622Z",
     "iopub.status.idle": "2023-01-24T20:37:27.571315Z",
     "shell.execute_reply": "2023-01-24T20:37:27.570044Z",
     "shell.execute_reply.started": "2023-01-24T20:37:27.480016Z"
    }
   },
   "outputs": [
    {
     "data": {
      "text/plain": [
       "(50000, 14)"
      ]
     },
     "execution_count": 198,
     "metadata": {},
     "output_type": "execute_result"
    }
   ],
   "source": [
    "data = pd.read_csv('Dataset/ba_task2_data.csv')\n",
    "data.shape"
   ]
  },
  {
   "cell_type": "code",
   "execution_count": 150,
   "metadata": {
    "execution": {
     "iopub.execute_input": "2023-01-24T20:22:57.369661Z",
     "iopub.status.busy": "2023-01-24T20:22:57.369213Z",
     "iopub.status.idle": "2023-01-24T20:22:57.379892Z",
     "shell.execute_reply": "2023-01-24T20:22:57.377577Z",
     "shell.execute_reply.started": "2023-01-24T20:22:57.369625Z"
    }
   },
   "outputs": [
    {
     "data": {
      "text/plain": [
       "0    28643\n",
       "1    21357\n",
       "Name: wants_in_flight_meals, dtype: int64"
      ]
     },
     "execution_count": 150,
     "metadata": {},
     "output_type": "execute_result"
    }
   ],
   "source": [
    "data['wants_in_flight_meals'].value_counts()"
   ]
  },
  {
   "cell_type": "code",
   "execution_count": 199,
   "metadata": {
    "execution": {
     "iopub.execute_input": "2023-01-24T20:37:30.192103Z",
     "iopub.status.busy": "2023-01-24T20:37:30.191691Z",
     "iopub.status.idle": "2023-01-24T20:37:30.202573Z",
     "shell.execute_reply": "2023-01-24T20:37:30.201153Z",
     "shell.execute_reply.started": "2023-01-24T20:37:30.192070Z"
    }
   },
   "outputs": [],
   "source": [
    "data.drop(['booking_origin', 'route','trip_type','sales_channel'], inplace=True, axis=1)"
   ]
  },
  {
   "cell_type": "code",
   "execution_count": 200,
   "metadata": {
    "execution": {
     "iopub.execute_input": "2023-01-24T20:37:33.546970Z",
     "iopub.status.busy": "2023-01-24T20:37:33.546322Z",
     "iopub.status.idle": "2023-01-24T20:37:33.558212Z",
     "shell.execute_reply": "2023-01-24T20:37:33.557386Z",
     "shell.execute_reply.started": "2023-01-24T20:37:33.546924Z"
    }
   },
   "outputs": [],
   "source": [
    "mapping = {\n",
    "    \"Mon\": 1,\n",
    "    \"Tue\": 2,\n",
    "    \"Wed\": 3,\n",
    "    \"Thu\": 4,\n",
    "    \"Fri\": 5,\n",
    "    \"Sat\": 6,\n",
    "    \"Sun\": 7,\n",
    "}\n",
    "\n",
    "data[\"flight_day\"] = data[\"flight_day\"].map(mapping)"
   ]
  },
  {
   "cell_type": "code",
   "execution_count": 162,
   "metadata": {
    "execution": {
     "iopub.execute_input": "2023-01-24T20:24:20.364601Z",
     "iopub.status.busy": "2023-01-24T20:24:20.363788Z",
     "iopub.status.idle": "2023-01-24T20:24:20.377603Z",
     "shell.execute_reply": "2023-01-24T20:24:20.376254Z",
     "shell.execute_reply.started": "2023-01-24T20:24:20.364558Z"
    }
   },
   "outputs": [
    {
     "data": {
      "text/html": [
       "<div>\n",
       "<style scoped>\n",
       "    .dataframe tbody tr th:only-of-type {\n",
       "        vertical-align: middle;\n",
       "    }\n",
       "\n",
       "    .dataframe tbody tr th {\n",
       "        vertical-align: top;\n",
       "    }\n",
       "\n",
       "    .dataframe thead th {\n",
       "        text-align: right;\n",
       "    }\n",
       "</style>\n",
       "<table border=\"1\" class=\"dataframe\">\n",
       "  <thead>\n",
       "    <tr style=\"text-align: right;\">\n",
       "      <th></th>\n",
       "      <th>purchase_lead</th>\n",
       "      <th>length_of_stay</th>\n",
       "      <th>flight_hour</th>\n",
       "      <th>wants_extra_baggage</th>\n",
       "      <th>wants_in_flight_meals</th>\n",
       "      <th>booking_complete</th>\n",
       "    </tr>\n",
       "  </thead>\n",
       "  <tbody>\n",
       "    <tr>\n",
       "      <th>0</th>\n",
       "      <td>262</td>\n",
       "      <td>19</td>\n",
       "      <td>7</td>\n",
       "      <td>1</td>\n",
       "      <td>0</td>\n",
       "      <td>0</td>\n",
       "    </tr>\n",
       "    <tr>\n",
       "      <th>1</th>\n",
       "      <td>112</td>\n",
       "      <td>20</td>\n",
       "      <td>3</td>\n",
       "      <td>0</td>\n",
       "      <td>0</td>\n",
       "      <td>0</td>\n",
       "    </tr>\n",
       "    <tr>\n",
       "      <th>2</th>\n",
       "      <td>243</td>\n",
       "      <td>22</td>\n",
       "      <td>17</td>\n",
       "      <td>1</td>\n",
       "      <td>0</td>\n",
       "      <td>0</td>\n",
       "    </tr>\n",
       "    <tr>\n",
       "      <th>3</th>\n",
       "      <td>96</td>\n",
       "      <td>31</td>\n",
       "      <td>4</td>\n",
       "      <td>0</td>\n",
       "      <td>1</td>\n",
       "      <td>0</td>\n",
       "    </tr>\n",
       "    <tr>\n",
       "      <th>4</th>\n",
       "      <td>68</td>\n",
       "      <td>22</td>\n",
       "      <td>15</td>\n",
       "      <td>1</td>\n",
       "      <td>1</td>\n",
       "      <td>0</td>\n",
       "    </tr>\n",
       "  </tbody>\n",
       "</table>\n",
       "</div>"
      ],
      "text/plain": [
       "   purchase_lead  length_of_stay  flight_hour  wants_extra_baggage  \\\n",
       "0            262              19            7                    1   \n",
       "1            112              20            3                    0   \n",
       "2            243              22           17                    1   \n",
       "3             96              31            4                    0   \n",
       "4             68              22           15                    1   \n",
       "\n",
       "   wants_in_flight_meals  booking_complete  \n",
       "0                      0                 0  \n",
       "1                      0                 0  \n",
       "2                      0                 0  \n",
       "3                      1                 0  \n",
       "4                      1                 0  "
      ]
     },
     "execution_count": 162,
     "metadata": {},
     "output_type": "execute_result"
    }
   ],
   "source": [
    "data.head()"
   ]
  },
  {
   "cell_type": "code",
   "execution_count": 176,
   "metadata": {
    "execution": {
     "iopub.execute_input": "2023-01-24T20:29:00.506633Z",
     "iopub.status.busy": "2023-01-24T20:29:00.506214Z",
     "iopub.status.idle": "2023-01-24T20:29:00.516848Z",
     "shell.execute_reply": "2023-01-24T20:29:00.515161Z",
     "shell.execute_reply.started": "2023-01-24T20:29:00.506600Z"
    }
   },
   "outputs": [],
   "source": [
    "data = data[['purchase_lead', 'length_of_stay', 'flight_hour','wants_extra_baggage','booking_complete']]"
   ]
  },
  {
   "cell_type": "code",
   "execution_count": 14,
   "metadata": {
    "execution": {
     "iopub.execute_input": "2023-01-24T19:55:18.979176Z",
     "iopub.status.busy": "2023-01-24T19:55:18.978792Z",
     "iopub.status.idle": "2023-01-24T19:55:19.171670Z",
     "shell.execute_reply": "2023-01-24T19:55:19.169832Z",
     "shell.execute_reply.started": "2023-01-24T19:55:18.979147Z"
    }
   },
   "outputs": [],
   "source": [
    "import seaborn as sns"
   ]
  },
  {
   "cell_type": "code",
   "execution_count": 59,
   "metadata": {
    "execution": {
     "iopub.execute_input": "2023-01-24T20:09:01.785347Z",
     "iopub.status.busy": "2023-01-24T20:09:01.784926Z",
     "iopub.status.idle": "2023-01-24T20:09:01.795601Z",
     "shell.execute_reply": "2023-01-24T20:09:01.793801Z",
     "shell.execute_reply.started": "2023-01-24T20:09:01.785300Z"
    }
   },
   "outputs": [
    {
     "data": {
      "text/plain": [
       "0    42522\n",
       "1     7478\n",
       "Name: booking_complete, dtype: int64"
      ]
     },
     "execution_count": 59,
     "metadata": {},
     "output_type": "execute_result"
    }
   ],
   "source": [
    "data['booking_complete'].value_counts()"
   ]
  },
  {
   "cell_type": "code",
   "execution_count": 201,
   "metadata": {
    "execution": {
     "iopub.execute_input": "2023-01-24T20:37:40.354616Z",
     "iopub.status.busy": "2023-01-24T20:37:40.354182Z",
     "iopub.status.idle": "2023-01-24T20:37:40.365656Z",
     "shell.execute_reply": "2023-01-24T20:37:40.364580Z",
     "shell.execute_reply.started": "2023-01-24T20:37:40.354574Z"
    }
   },
   "outputs": [],
   "source": [
    "X = data.loc[:, data.columns != 'booking_complete']\n",
    "y = data['booking_complete']"
   ]
  },
  {
   "cell_type": "code",
   "execution_count": 61,
   "metadata": {
    "execution": {
     "iopub.execute_input": "2023-01-24T20:09:02.857346Z",
     "iopub.status.busy": "2023-01-24T20:09:02.856940Z",
     "iopub.status.idle": "2023-01-24T20:09:02.872383Z",
     "shell.execute_reply": "2023-01-24T20:09:02.871029Z",
     "shell.execute_reply.started": "2023-01-24T20:09:02.857294Z"
    }
   },
   "outputs": [
    {
     "name": "stdout",
     "output_type": "stream",
     "text": [
      "<class 'pandas.core.frame.DataFrame'>\n",
      "RangeIndex: 50000 entries, 0 to 49999\n",
      "Data columns (total 4 columns):\n",
      " #   Column          Non-Null Count  Dtype\n",
      "---  ------          --------------  -----\n",
      " 0   purchase_lead   50000 non-null  int64\n",
      " 1   length_of_stay  50000 non-null  int64\n",
      " 2   flight_hour     50000 non-null  int64\n",
      " 3   flight_day      50000 non-null  int64\n",
      "dtypes: int64(4)\n",
      "memory usage: 1.5 MB\n"
     ]
    }
   ],
   "source": [
    "X.info()"
   ]
  },
  {
   "cell_type": "code",
   "execution_count": 202,
   "metadata": {
    "execution": {
     "iopub.execute_input": "2023-01-24T20:37:44.389146Z",
     "iopub.status.busy": "2023-01-24T20:37:44.388750Z",
     "iopub.status.idle": "2023-01-24T20:37:44.401217Z",
     "shell.execute_reply": "2023-01-24T20:37:44.399812Z",
     "shell.execute_reply.started": "2023-01-24T20:37:44.389114Z"
    }
   },
   "outputs": [],
   "source": [
    "categorical_cols = X.select_dtypes(include=['object']).columns\n",
    "X = pd.get_dummies(X, columns=categorical_cols, drop_first=True)"
   ]
  },
  {
   "cell_type": "code",
   "execution_count": 203,
   "metadata": {
    "execution": {
     "iopub.execute_input": "2023-01-24T20:37:45.982889Z",
     "iopub.status.busy": "2023-01-24T20:37:45.982466Z",
     "iopub.status.idle": "2023-01-24T20:37:46.011853Z",
     "shell.execute_reply": "2023-01-24T20:37:46.010719Z",
     "shell.execute_reply.started": "2023-01-24T20:37:45.982853Z"
    }
   },
   "outputs": [],
   "source": [
    "X_train, X_test, y_train, y_test = train_test_split(X, y, test_size=0.2, stratify = y, random_state = 42)"
   ]
  },
  {
   "cell_type": "code",
   "execution_count": 167,
   "metadata": {
    "execution": {
     "iopub.execute_input": "2023-01-24T20:25:53.655618Z",
     "iopub.status.busy": "2023-01-24T20:25:53.654634Z",
     "iopub.status.idle": "2023-01-24T20:25:53.662864Z",
     "shell.execute_reply": "2023-01-24T20:25:53.661730Z",
     "shell.execute_reply.started": "2023-01-24T20:25:53.655573Z"
    }
   },
   "outputs": [
    {
     "data": {
      "text/plain": [
       "((40000, 2), (10000, 2))"
      ]
     },
     "execution_count": 167,
     "metadata": {},
     "output_type": "execute_result"
    }
   ],
   "source": [
    "X_train.shape, X_test.shape"
   ]
  },
  {
   "cell_type": "code",
   "execution_count": 121,
   "metadata": {
    "execution": {
     "iopub.execute_input": "2023-01-24T20:17:35.951558Z",
     "iopub.status.busy": "2023-01-24T20:17:35.951147Z",
     "iopub.status.idle": "2023-01-24T20:17:35.960914Z",
     "shell.execute_reply": "2023-01-24T20:17:35.959589Z",
     "shell.execute_reply.started": "2023-01-24T20:17:35.951524Z"
    }
   },
   "outputs": [
    {
     "data": {
      "text/plain": [
       "0    34018\n",
       "1     5982\n",
       "Name: booking_complete, dtype: int64"
      ]
     },
     "execution_count": 121,
     "metadata": {},
     "output_type": "execute_result"
    }
   ],
   "source": [
    "y_train.value_counts()"
   ]
  },
  {
   "cell_type": "code",
   "execution_count": 93,
   "metadata": {
    "execution": {
     "iopub.execute_input": "2023-01-24T20:12:36.519219Z",
     "iopub.status.busy": "2023-01-24T20:12:36.518842Z",
     "iopub.status.idle": "2023-01-24T20:12:36.529975Z",
     "shell.execute_reply": "2023-01-24T20:12:36.528427Z",
     "shell.execute_reply.started": "2023-01-24T20:12:36.519189Z"
    }
   },
   "outputs": [
    {
     "data": {
      "text/plain": [
       "0    8504\n",
       "1    1496\n",
       "Name: booking_complete, dtype: int64"
      ]
     },
     "execution_count": 93,
     "metadata": {},
     "output_type": "execute_result"
    }
   ],
   "source": [
    "y_test.value_counts()"
   ]
  },
  {
   "cell_type": "code",
   "execution_count": 204,
   "metadata": {
    "execution": {
     "iopub.execute_input": "2023-01-24T20:37:49.191044Z",
     "iopub.status.busy": "2023-01-24T20:37:49.190638Z",
     "iopub.status.idle": "2023-01-24T20:37:55.169999Z",
     "shell.execute_reply": "2023-01-24T20:37:55.168749Z",
     "shell.execute_reply.started": "2023-01-24T20:37:49.191010Z"
    }
   },
   "outputs": [
    {
     "data": {
      "text/plain": [
       "RandomForestClassifier(random_state=0)"
      ]
     },
     "execution_count": 204,
     "metadata": {},
     "output_type": "execute_result"
    }
   ],
   "source": [
    "feature_names = [f\"feature {i}\" for i in range(X.shape[1])]\n",
    "forest = RandomForestClassifier(random_state=0)\n",
    "forest.fit(X_train, y_train)"
   ]
  },
  {
   "cell_type": "code",
   "execution_count": 180,
   "metadata": {
    "execution": {
     "iopub.execute_input": "2023-01-24T20:29:17.548878Z",
     "iopub.status.busy": "2023-01-24T20:29:17.548002Z",
     "iopub.status.idle": "2023-01-24T20:29:17.554374Z",
     "shell.execute_reply": "2023-01-24T20:29:17.553177Z",
     "shell.execute_reply.started": "2023-01-24T20:29:17.548839Z"
    }
   },
   "outputs": [],
   "source": [
    "import matplotlib.pyplot as plt"
   ]
  },
  {
   "cell_type": "code",
   "execution_count": 181,
   "metadata": {
    "execution": {
     "iopub.execute_input": "2023-01-24T20:29:17.556422Z",
     "iopub.status.busy": "2023-01-24T20:29:17.556055Z",
     "iopub.status.idle": "2023-01-24T20:29:17.630938Z",
     "shell.execute_reply": "2023-01-24T20:29:17.629585Z",
     "shell.execute_reply.started": "2023-01-24T20:29:17.556391Z"
    }
   },
   "outputs": [
    {
     "name": "stdout",
     "output_type": "stream",
     "text": [
      "Elapsed time to compute the importances: 0.058 seconds\n"
     ]
    }
   ],
   "source": [
    "import time\n",
    "import numpy as np\n",
    "\n",
    "start_time = time.time()\n",
    "importances = forest.feature_importances_\n",
    "std = np.std([tree.feature_importances_ for tree in forest.estimators_], axis=0)\n",
    "elapsed_time = time.time() - start_time\n",
    "\n",
    "print(f\"Elapsed time to compute the importances: {elapsed_time:.3f} seconds\")"
   ]
  },
  {
   "cell_type": "code",
   "execution_count": 182,
   "metadata": {
    "execution": {
     "iopub.execute_input": "2023-01-24T20:29:17.634566Z",
     "iopub.status.busy": "2023-01-24T20:29:17.633372Z",
     "iopub.status.idle": "2023-01-24T20:29:17.916921Z",
     "shell.execute_reply": "2023-01-24T20:29:17.915596Z",
     "shell.execute_reply.started": "2023-01-24T20:29:17.634514Z"
    }
   },
   "outputs": [
    {
     "data": {
      "image/png": "[encoded data removed]",
      "text/plain": [
       "<Figure size 432x288 with 1 Axes>"
      ]
     },
     "metadata": {
      "needs_background": "light"
     },
     "output_type": "display_data"
    }
   ],
   "source": [
    "import pandas as pd\n",
    "\n",
    "forest_importances = pd.Series(importances, index=feature_names)\n",
    "\n",
    "fig, ax = plt.subplots()\n",
    "forest_importances.plot.bar(yerr=std, ax=ax)\n",
    "ax.set_title(\"Feature importances using MDI\")\n",
    "ax.set_ylabel(\"Mean decrease in impurity\")\n",
    "fig.tight_layout()"
   ]
  },
  {
   "cell_type": "code",
   "execution_count": 174,
   "metadata": {
    "execution": {
     "iopub.execute_input": "2023-01-24T20:26:49.209871Z",
     "iopub.status.busy": "2023-01-24T20:26:49.208734Z",
     "iopub.status.idle": "2023-01-24T20:26:49.222242Z",
     "shell.execute_reply": "2023-01-24T20:26:49.220937Z",
     "shell.execute_reply.started": "2023-01-24T20:26:49.209826Z"
    }
   },
   "outputs": [
    {
     "data": {
      "text/html": [
       "<div>\n",
       "<style scoped>\n",
       "    .dataframe tbody tr th:only-of-type {\n",
       "        vertical-align: middle;\n",
       "    }\n",
       "\n",
       "    .dataframe tbody tr th {\n",
       "        vertical-align: top;\n",
       "    }\n",
       "\n",
       "    .dataframe thead th {\n",
       "        text-align: right;\n",
       "    }\n",
       "</style>\n",
       "<table border=\"1\" class=\"dataframe\">\n",
       "  <thead>\n",
       "    <tr style=\"text-align: right;\">\n",
       "      <th></th>\n",
       "      <th>purchase_lead</th>\n",
       "      <th>flight_hour</th>\n",
       "    </tr>\n",
       "  </thead>\n",
       "  <tbody>\n",
       "    <tr>\n",
       "      <th>11179</th>\n",
       "      <td>168</td>\n",
       "      <td>8</td>\n",
       "    </tr>\n",
       "    <tr>\n",
       "      <th>26739</th>\n",
       "      <td>54</td>\n",
       "      <td>1</td>\n",
       "    </tr>\n",
       "  </tbody>\n",
       "</table>\n",
       "</div>"
      ],
      "text/plain": [
       "       purchase_lead  flight_hour\n",
       "11179            168            8\n",
       "26739             54            1"
      ]
     },
     "execution_count": 174,
     "metadata": {},
     "output_type": "execute_result"
    }
   ],
   "source": [
    "X_train.head(2)"
   ]
  },
  {
   "cell_type": "code",
   "execution_count": 183,
   "metadata": {
    "execution": {
     "iopub.execute_input": "2023-01-24T20:29:21.698449Z",
     "iopub.status.busy": "2023-01-24T20:29:21.698012Z",
     "iopub.status.idle": "2023-01-24T20:29:30.314598Z",
     "shell.execute_reply": "2023-01-24T20:29:30.313681Z",
     "shell.execute_reply.started": "2023-01-24T20:29:21.698413Z"
    }
   },
   "outputs": [
    {
     "name": "stdout",
     "output_type": "stream",
     "text": [
      "Elapsed time to compute the importances: 8.442 seconds\n"
     ]
    },
    {
     "data": {
      "image/png": "[encoded data removed]",
      "text/plain": [
       "<Figure size 432x288 with 1 Axes>"
      ]
     },
     "metadata": {
      "needs_background": "light"
     },
     "output_type": "display_data"
    }
   ],
   "source": [
    "from sklearn.inspection import permutation_importance\n",
    "\n",
    "start_time = time.time()\n",
    "result = permutation_importance(\n",
    "    forest, X_test, y_test, n_repeats=10, random_state=42, n_jobs=2\n",
    ")\n",
    "elapsed_time = time.time() - start_time\n",
    "print(f\"Elapsed time to compute the importances: {elapsed_time:.3f} seconds\")\n",
    "\n",
    "forest_importances = pd.Series(result.importances_mean, index=feature_names)\n",
    "fig, ax = plt.subplots()\n",
    "forest_importances.plot.bar(yerr=result.importances_std, ax=ax)\n",
    "ax.set_title(\"Feature importances using permutation on full model\")\n",
    "ax.set_ylabel(\"Mean accuracy decrease\")\n",
    "fig.tight_layout()\n",
    "plt.show()"
   ]
  },
  {
   "cell_type": "code",
   "execution_count": 205,
   "metadata": {
    "execution": {
     "iopub.execute_input": "2023-01-24T20:38:37.016673Z",
     "iopub.status.busy": "2023-01-24T20:38:37.016245Z",
     "iopub.status.idle": "2023-01-24T20:38:37.240746Z",
     "shell.execute_reply": "2023-01-24T20:38:37.239574Z",
     "shell.execute_reply.started": "2023-01-24T20:38:37.016640Z"
    }
   },
   "outputs": [
    {
     "data": {
      "image/png": "[encoded data removed]",
      "text/plain": [
       "<Figure size 720x360 with 1 Axes>"
      ]
     },
     "metadata": {
      "needs_background": "light"
     },
     "output_type": "display_data"
    }
   ],
   "source": [
    "importances = forest.feature_importances_\n",
    "\n",
    "# Get feature names\n",
    "feature_names = X_test.columns\n",
    "\n",
    "# Create a dataframe with feature importances and feature names\n",
    "feature_importance = pd.DataFrame(list(zip(feature_names, importances)), columns=[\"Feature\", \"Importance\"])\n",
    "\n",
    "# Sort the dataframe by feature importances\n",
    "feature_importance.sort_values(by=['Importance'], ascending=False, inplace=True)\n",
    "\n",
    "# Plot feature importances\n",
    "plt.figure(figsize=(10,5))\n",
    "plt.bar(feature_importance[\"Feature\"], feature_importance[\"Importance\"])\n",
    "plt.xticks(rotation=90)\n",
    "plt.xlabel(\"Feature\")\n",
    "plt.ylabel(\"Importance\")\n",
    "plt.title(\"Feature Importance of the Random Forest\")\n",
    "plt.show()\n"
   ]
  },
  {
   "cell_type": "code",
   "execution_count": 112,
   "metadata": {
    "execution": {
     "iopub.execute_input": "2023-01-24T20:16:04.355000Z",
     "iopub.status.busy": "2023-01-24T20:16:04.354634Z",
     "iopub.status.idle": "2023-01-24T20:16:04.695627Z",
     "shell.execute_reply": "2023-01-24T20:16:04.694502Z",
     "shell.execute_reply.started": "2023-01-24T20:16:04.354969Z"
    }
   },
   "outputs": [
    {
     "name": "stdout",
     "output_type": "stream",
     "text": [
      "              precision    recall  f1-score   support\n",
      "\n",
      "           0       0.86      0.93      0.89      8504\n",
      "           1       0.26      0.13      0.18      1496\n",
      "\n",
      "    accuracy                           0.81     10000\n",
      "   macro avg       0.56      0.53      0.54     10000\n",
      "weighted avg       0.77      0.81      0.79     10000\n",
      "\n"
     ]
    }
   ],
   "source": [
    "y_pred = forest.predict(X_test)\n",
    "from sklearn.metrics import classification_report\n",
    "print(classification_report(y_test, y_pred))\n",
    "\n",
    "## with 4 features ['purchase_lead', 'length_of_stay', 'flight_hour','wants_extra_baggage'],"
   ]
  }
 ],
 "metadata": {
  "kernelspec": {
   "display_name": "Python 3 (ipykernel)",
   "language": "python",
   "name": "python3"
  },
  "language_info": {
   "codemirror_mode": {
    "name": "ipython",
    "version": 3
   },
   "file_extension": ".py",
   "mimetype": "text/x-python",
   "name": "python",
   "nbconvert_exporter": "python",
   "pygments_lexer": "ipython3",
   "version": "3.10.9"
  }
 },
 "nbformat": 4,
 "nbformat_minor": 4
}
